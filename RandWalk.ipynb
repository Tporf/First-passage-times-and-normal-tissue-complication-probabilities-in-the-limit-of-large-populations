{
  "nbformat": 4,
  "nbformat_minor": 0,
  "metadata": {
    "colab": {
      "provenance": []
    },
    "kernelspec": {
      "name": "python3",
      "display_name": "Python 3"
    },
    "language_info": {
      "name": "python"
    }
  },
  "cells": [
    {
      "cell_type": "code",
      "execution_count": null,
      "metadata": {
        "id": "lKjRRI7L-Mdt"
      },
      "outputs": [],
      "source": [
        "import numpy as np\n",
        "import matplotlib.pyplot as plt\n",
        "\n",
        "def simulate_random_walk(n_steps, threshold, n_simulations):\n",
        "    # Initialize an array to store the first-passage times\n",
        "    first_passage_times = np.full(n_simulations, np.nan)\n",
        "\n",
        "    for sim in range(n_simulations):\n",
        "        walk = np.zeros(n_steps)\n",
        "        for step in range(1, n_steps):\n",
        "            # Randomly decide the direction of the walk\n",
        "            step_direction = np.random.choice([-1, 1])\n",
        "            walk[step] = walk[step - 1] + step_direction\n",
        "\n",
        "            # Check if the threshold is reached\n",
        "            if walk[step] >= threshold and np.isnan(first_passage_times[sim]):\n",
        "                first_passage_times[sim] = step  # Record the time of first passage\n",
        "                break\n",
        "\n",
        "    return first_passage_times\n",
        "\n",
        "# Parameters\n",
        "n_steps = 1000       # Number of steps in each simulation\n",
        "threshold = 10       # Threshold to cross\n",
        "n_simulations = 1000 # Number of simulations\n",
        "\n",
        "# Run the simulation\n",
        "fpt_results = simulate_random_walk(n_steps, threshold, n_simulations)\n",
        "\n",
        "# Calculate mean and standard deviation of first-passage times\n",
        "mean_fpt = np.nanmean(fpt_results)\n",
        "std_fpt = np.nanstd(fpt_results)\n",
        "\n",
        "# Output results\n",
        "print(f\"Mean First-Passage Time: {mean_fpt}\")\n",
        "print(f\"Standard Deviation of First-Passage Time: {std_fpt}\")\n",
        "\n",
        "# Plotting the histogram of first-passage times\n",
        "plt.hist(fpt_results[~np.isnan(fpt_results)], bins=30, alpha=0.7, color='blue')\n",
        "plt.title('Histogram of First-Passage Times')\n",
        "plt.xlabel('First-Passage Time')\n",
        "plt.ylabel('Frequency')\n",
        "plt.grid()\n",
        "plt.show()"
      ]
    }
  ]
}